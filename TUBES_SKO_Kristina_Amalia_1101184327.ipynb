{
  "nbformat": 4,
  "nbformat_minor": 0,
  "metadata": {
    "colab": {
      "name": "TUBES SKO_Kristina Amalia_1101184327.ipynb",
      "provenance": [],
      "collapsed_sections": [],
      "authorship_tag": "ABX9TyOnk77+WVSJt/OIpHo7UrjG",
      "include_colab_link": true
    },
    "kernelspec": {
      "name": "python3",
      "display_name": "Python 3"
    }
  },
  "cells": [
    {
      "cell_type": "markdown",
      "metadata": {
        "id": "view-in-github",
        "colab_type": "text"
      },
      "source": [
        "<a href=\"https://colab.research.google.com/github/kristinaamalia/Pemrograman_Python/blob/main/TUBES_SKO_Kristina_Amalia_1101184327.ipynb\" target=\"_parent\"><img src=\"https://colab.research.google.com/assets/colab-badge.svg\" alt=\"Open In Colab\"/></a>"
      ]
    },
    {
      "cell_type": "markdown",
      "metadata": {
        "id": "eRf1YU3Ha4NZ"
      },
      "source": [
        "Kristina Amalia \r\n",
        "1101184327\r\n",
        "TT-42-02"
      ]
    },
    {
      "cell_type": "markdown",
      "metadata": {
        "id": "nO6gzn4SELWP"
      },
      "source": [
        "Sistem Perancangan FTTB yang akan saya buat pada sebuah gedung dengan 32 lantai. Terdapat 1 buah ODC dan 1 buat ODP dengan kapasitas 1:4 dan 1:8. Jarak STO Tebet ke gedung Apartemen Taman Rasuna adalah 5km. Jarak ODC ke ODP lantai 32 adalah 160 meter dan jarak ODP ke ONU adalah 15 meter. Jumlah konektor yang digunakan ada 12 dengan loss 0.25 dB dan jumlah splicing 6 dengan redaman 0.1"
      ]
    },
    {
      "cell_type": "code",
      "metadata": {
        "id": "pCYyNq3qoTwr"
      },
      "source": [
        "import math as m\r\n",
        "import matplotlib.pyplot as plt\r\n",
        "import numpy as np"
      ],
      "execution_count": 15,
      "outputs": []
    },
    {
      "cell_type": "code",
      "metadata": {
        "id": "VvZlM4MDoUsC"
      },
      "source": [
        "#Untuk SNR\r\n",
        "Bw = 2*10**9 #Bandwidth fiber optik \r\n",
        "SM = 3 #Safety margin (dB)\r\n",
        "Suhu = 290 #Kelvin\r\n",
        "Rl = 50 #Ekivalen resistansi\r\n",
        "M = -0.23 #Tambahan daya sinyal APD (dB)\r\n",
        "R = 0.85 #Responsivitas (A/W)\r\n",
        "q = 1.6*10**-19 #Elektron (C)\r\n",
        "id = 2*10**-7 #Arus gelap (A)\r\n",
        "F = 1 #Faktor gain\r\n",
        "K = 1.38*10**-23 #Konstanta Boltzman"
      ],
      "execution_count": 16,
      "outputs": []
    },
    {
      "cell_type": "code",
      "metadata": {
        "id": "kaesK41ap4o7"
      },
      "source": [
        "#Untuk Daya Terima\r\n",
        "\r\n",
        "#jarak sentral ke ODC = 5 km\r\n",
        "#jarak ODC ke ODP = 160 m\r\n",
        "#jarak ODP ke ONU = 15 m\r\n",
        "#jarak total = 5000 + 160 + 15 = 5.175 km"
      ],
      "execution_count": 17,
      "outputs": []
    },
    {
      "cell_type": "code",
      "metadata": {
        "id": "Z7D2ipdHqvGy"
      },
      "source": [
        "d = np.arange(0.015,5.176,1) #jarak (km)\r\n",
        "Ns1 = 1 #1:4 ODC\r\n",
        "Ns2 = 1 #1:8 ODP\r\n",
        "As1 = 7.25 #Loss Splitter 1:4 (dB)\r\n",
        "As2 = 10.38 #Loss Splitter 1:8 (dB)\r\n",
        "Asp = 0.1 #Redaman Splicing \r\n",
        "Nsp = 6 #Jumlah Splicing\r\n",
        "Nc = 12 #Jumlah Konektor\r\n",
        "Ac = 0.25 #Loss Konektor SC/UPC\r\n",
        "Afo = 0.3 #Redaman Fiber Optik G.652(1310/1490) (dB/km)\r\n",
        "Ptx = 8 #Daya kirim (mW) "
      ],
      "execution_count": 18,
      "outputs": []
    },
    {
      "cell_type": "code",
      "metadata": {
        "colab": {
          "base_uri": "https://localhost:8080/",
          "height": 0
        },
        "id": "L8HwneV9llFd",
        "outputId": "83c3c035-d883-4bef-9fb3-4db49ed1bcf9"
      },
      "source": [
        "#Daya Terima\r\n",
        "def prx():\r\n",
        "  Loss_kabel = d * Afo\r\n",
        "  Loss_splitter = (Ns1*As1) + (Ns2*As2)\r\n",
        "  Loss_konektor = Nc * Ac\r\n",
        "  Loss_splicing = Nsp * Asp\r\n",
        "  ptx_db = 10*np.log10(Ptx) #konversi mW ke dB\r\n",
        "\r\n",
        "  atotal = Loss_kabel + Loss_splitter + Loss_konektor + Loss_splicing\r\n",
        "  Prx = ptx_db - atotal - SM\r\n",
        "  return Prx\r\n",
        "\r\n",
        "Prx = prx()\r\n",
        "print ('Daya Terima = ', Prx, 'dB')"
      ],
      "execution_count": 27,
      "outputs": [
        {
          "output_type": "stream",
          "text": [
            "Daya Terima =  [-15.20360013 -15.50360013 -15.80360013 -16.10360013 -16.40360013\n",
            " -16.70360013] dB\n"
          ],
          "name": "stdout"
        }
      ]
    },
    {
      "cell_type": "code",
      "metadata": {
        "colab": {
          "base_uri": "https://localhost:8080/",
          "height": 0
        },
        "id": "G9FPW_7M2IhK",
        "outputId": "33c4ad47-5b15-424d-9beb-a98fb50c4450"
      },
      "source": [
        "#SNR \r\n",
        "def SNR():\r\n",
        "  prx_w = 10**((Prx-30)/10) #konversi db ke w\r\n",
        "  A = 2*((prx_w*R)**2)\r\n",
        "\r\n",
        "  signalpower = 2*A\r\n",
        "\r\n",
        "  shotnoise = 2*q*A*Bw*F\r\n",
        "\r\n",
        "  idark = 2*q*id*Bw\r\n",
        "\r\n",
        "  amplifiernoise = (4*K*Suhu*Bw)/Rl\r\n",
        "  \r\n",
        "  Noise = signalpower/(shotnoise+amplifiernoise+idark)\r\n",
        "  noise_db = 10*np.log10(Noise)\r\n",
        "  return noise_db\r\n",
        "\r\n",
        "noise_db = SNR()\r\n",
        "print ('S/N = ', noise_db, 'dB')"
      ],
      "execution_count": 20,
      "outputs": [
        {
          "output_type": "stream",
          "text": [
            "S/N =  [36.13693372 35.53693446 34.9369351  34.33693566 33.73693614 33.13693657] dB\n"
          ],
          "name": "stdout"
        }
      ]
    },
    {
      "cell_type": "code",
      "metadata": {
        "colab": {
          "base_uri": "https://localhost:8080/",
          "height": 0
        },
        "id": "GsWG_zV4R0vH",
        "outputId": "269d4a53-3acf-442a-a69e-02596f2170d0"
      },
      "source": [
        "#CARI Q\r\n",
        "def Q():\r\n",
        "  hasilQ = 0.5*(10**(noise_db/20))\r\n",
        "  return hasilQ\r\n",
        "\r\n",
        "cariQ = Q()\r\n",
        "print(cariQ)  "
      ],
      "execution_count": 21,
      "outputs": [
        {
          "output_type": "stream",
          "text": [
            "[32.04916288 29.91002163 27.91365839 26.05054342 24.31178305 22.6890772 ]\n"
          ],
          "name": "stdout"
        }
      ]
    },
    {
      "cell_type": "code",
      "metadata": {
        "colab": {
          "base_uri": "https://localhost:8080/",
          "height": 0
        },
        "id": "Q6biz-Hxf-FK",
        "outputId": "22fe7a50-8fef-4ec9-e032-6db892b48b70"
      },
      "source": [
        "def BER():\r\n",
        "  phi = 3.14\r\n",
        "  hasilBER = (1/np.sqrt(2*phi))*(np.exp(-(cariQ**2/2))/cariQ)\r\n",
        "  return hasilBER\r\n",
        "cariBER = BER()\r\n",
        "print(cariBER)  "
      ],
      "execution_count": 22,
      "outputs": [
        {
          "output_type": "stream",
          "text": [
            "[1.12892869e-225 7.29863718e-197 9.12184914e-172 6.64346794e-150\n",
            " 7.37137019e-131 2.87778235e-114]\n"
          ],
          "name": "stdout"
        }
      ]
    },
    {
      "cell_type": "code",
      "metadata": {
        "id": "t2XY14JsiocO",
        "colab": {
          "base_uri": "https://localhost:8080/",
          "height": 295
        },
        "outputId": "26e2faa6-10e9-4fe9-acb1-08e5c079a30e"
      },
      "source": [
        "plt.figure()\r\n",
        "plt.plot(d,noise_db)\r\n",
        "plt.title('Jarak dengan SNR')\r\n",
        "plt.xlabel('Jarak (km)')\r\n",
        "plt.ylabel('SNR (dB)')\r\n",
        "plt.show()"
      ],
      "execution_count": 23,
      "outputs": [
        {
          "output_type": "display_data",
          "data": {
            "image/png": "[encoded data removed]",
            "text/plain": [
              "<Figure size 432x288 with 1 Axes>"
            ]
          },
          "metadata": {
            "tags": [],
            "needs_background": "light"
          }
        }
      ]
    },
    {
      "cell_type": "markdown",
      "metadata": {
        "id": "dNfYsT0mkMza"
      },
      "source": [
        "Analisis Perbandingan Jarak dengan SNR : nilai SNR tertinggi pada saat O km dan nilai SNR terendah pada saat 5 km, yang berarti semakin jauh jarak maka nilai SNR akan menurun"
      ]
    },
    {
      "cell_type": "code",
      "metadata": {
        "id": "OsPiT5hAmGVI",
        "colab": {
          "base_uri": "https://localhost:8080/",
          "height": 295
        },
        "outputId": "fa605047-2013-4ea7-eb6b-88b21acaef61"
      },
      "source": [
        "plt.figure()\r\n",
        "plt.plot(d,cariQ,)\r\n",
        "plt.title('Grafik Perbandingan Jarak dengan Q-factor')\r\n",
        "plt.xlabel('Jarak (Km)')\r\n",
        "plt.ylabel('Q-factor')\r\n",
        "plt.show()"
      ],
      "execution_count": 24,
      "outputs": [
        {
          "output_type": "display_data",
          "data": {
            "image/png": "[encoded data removed]",
            "text/plain": [
              "<Figure size 432x288 with 1 Axes>"
            ]
          },
          "metadata": {
            "tags": [],
            "needs_background": "light"
          }
        }
      ]
    },
    {
      "cell_type": "markdown",
      "metadata": {
        "id": "onWXoTj-kpNm"
      },
      "source": [
        "Analisis Perbandingan Jarak dengan Q-factor : Semakin jauh jarak maka nilai Q-factor akan menurun"
      ]
    },
    {
      "cell_type": "code",
      "metadata": {
        "colab": {
          "base_uri": "https://localhost:8080/",
          "height": 295
        },
        "id": "Hm0j3LTGpVdE",
        "outputId": "c56d4a42-c7eb-4b2c-b7e0-00810d552f68"
      },
      "source": [
        "  plt.figure()\r\n",
        "  plt.plot(d,cariBER)\r\n",
        "  plt.title('Grafik Perbandingan Jarak dengan BER')\r\n",
        "  plt.xlabel('Jarak (Km)')\r\n",
        "  plt.ylabel('BER')\r\n",
        "  plt.show()"
      ],
      "execution_count": 25,
      "outputs": [
        {
          "output_type": "display_data",
          "data": {
            "image/png": "[encoded data removed]",
            "text/plain": [
              "<Figure size 432x288 with 1 Axes>"
            ]
          },
          "metadata": {
            "tags": [],
            "needs_background": "light"
          }
        }
      ]
    },
    {
      "cell_type": "markdown",
      "metadata": {
        "id": "_4fewW_Op-_N"
      },
      "source": [
        "Pada grafik terlihat bahwa pada jarak 0 hingga 4 km BER masih bernilai 0 atau mendekati 0 yang berarti masih terbilang cukup baik, lalu setelah melewati 4km nilai BER menjadi 2.8x10^(-114)\r\n",
        " "
      ]
    },
    {
      "cell_type": "code",
      "metadata": {
        "colab": {
          "base_uri": "https://localhost:8080/",
          "height": 295
        },
        "id": "GnORCxNhpf27",
        "outputId": "a8d234bf-59bf-4719-c610-a294e774a6c6"
      },
      "source": [
        "  plt.figure()\r\n",
        "  plt.plot(noise_db,cariBER,'g')\r\n",
        "  plt.title('Perbandingan SNR dengan BER')\r\n",
        "  plt.xlabel('SNR (dB)')\r\n",
        "  plt.ylabel('BER')\r\n",
        "  plt.show()"
      ],
      "execution_count": 26,
      "outputs": [
        {
          "output_type": "display_data",
          "data": {
            "image/png": "[encoded data removed]",
            "text/plain": [
              "<Figure size 432x288 with 1 Axes>"
            ]
          },
          "metadata": {
            "tags": [],
            "needs_background": "light"
          }
        }
      ]
    },
    {
      "cell_type": "markdown",
      "metadata": {
        "id": "Y71I51s0rNWh"
      },
      "source": [
        "Analisis Perbandingan SNR dengan BER : Parameter yang mempengaruhi grafik diatas adalah LPB. Pada perancangan ini LPB yang di dapatkan adalah -16.7 hingga -15.2 hasil tersebut membuktikan bahwa jaringan layak karena lebih besar dari -18. Sedangkan nilai SNR yang dihasilkan yaitu 33 sampai 36 dB yang menunjukkan bahwa jaringan layak dengan nilai BER menghasilkan 1x10^(-225) sampai 2.8x10^(-114) . Dari grafik diatas juga terlihat bahwa nilai BER mendekati nol saat SNR 33.75 dB "
      ]
    }
  ]
}